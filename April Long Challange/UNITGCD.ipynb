{
 "cells": [
  {
   "cell_type": "code",
   "execution_count": 7,
   "metadata": {},
   "outputs": [
    {
     "name": "stdout",
     "output_type": "stream",
     "text": [
      "[[], [1, 2], [1, 3], [2, 3], [1, 2, 3], [1, 4], [3, 4], [1, 3, 4], [1, 5], [2, 5], [1, 2, 5], [3, 5], [1, 3, 5], [2, 3, 5], [4, 5], [1, 4, 5], [3, 4, 5]]\n"
     ]
    }
   ],
   "source": [
    "import math\n",
    "ls = printSubsequences(range(1,6),5)\n",
    "print(ls)"
   ]
  },
  {
   "cell_type": "code",
   "execution_count": 2,
   "metadata": {},
   "outputs": [],
   "source": [
    "def printSubsequences(arr, n) : \n",
    "  \n",
    "    ls = [[]]\n",
    "    l = []\n",
    "    opsize = math.pow(2, n) \n",
    "  \n",
    "    # Run from counter 000..1 to 111..1 \n",
    "    for counter in range( 1, (int)(opsize)) : \n",
    "        for j in range(0, n) : \n",
    "              \n",
    "            # Check if jth bit in the counter \n",
    "            # is set If set then print jth  \n",
    "            # element from arr[]  \n",
    "            if (counter & (1<<j)) : \n",
    "                l.append(arr[j]) \n",
    "        if isValid(l) and len(l) in range(2,n-1):\n",
    "            ls.append(l)\n",
    "        l=[]\n",
    "    return ls"
   ]
  },
  {
   "cell_type": "code",
   "execution_count": 3,
   "metadata": {},
   "outputs": [],
   "source": [
    "def isValid(arr):\n",
    "    n = len(arr)\n",
    "    if n*(n-1)/2 == numOfPairs(arr, n):\n",
    "        return True\n",
    "    return False"
   ]
  },
  {
   "cell_type": "code",
   "execution_count": 4,
   "metadata": {},
   "outputs": [],
   "source": [
    "def numOfPairs(arr, n) : \n",
    "    count = 0\n",
    "      \n",
    "    for i in range(0, n-1) : \n",
    "        for j in range(i+1, n) : \n",
    "      \n",
    "            if (coprime(arr[i], arr[j])) : \n",
    "                count = count + 1\n",
    "      \n",
    "    return count \n",
    "  "
   ]
  },
  {
   "cell_type": "code",
   "execution_count": 5,
   "metadata": {},
   "outputs": [],
   "source": [
    "def coprime(a, b) : \n",
    "    return (gcd(a, b) == 1) \n",
    "  "
   ]
  },
  {
   "cell_type": "code",
   "execution_count": 6,
   "metadata": {},
   "outputs": [],
   "source": [
    "def gcd(a, b): \n",
    "      \n",
    "    if (a == 0 or b == 0): \n",
    "            False\n",
    "      \n",
    "    if (a == b): \n",
    "        return a \n",
    "  \n",
    "    if (a > b): \n",
    "        return gcd(a-b, b) \n",
    "          \n",
    "    return gcd(a, b-a) \n",
    "      "
   ]
  }
 ],
 "metadata": {
  "kernelspec": {
   "display_name": "Python 3",
   "language": "python",
   "name": "python3"
  }
 },
 "nbformat": 4,
 "nbformat_minor": 2
}

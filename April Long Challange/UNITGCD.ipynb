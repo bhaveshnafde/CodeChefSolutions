{
 "cells": [
  {
   "cell_type": "code",
   "execution_count": 152,
   "metadata": {},
   "outputs": [
    {
     "ename": "ValueError",
     "evalue": "list.remove(x): x not in list",
     "output_type": "error",
     "traceback": [
      "\u001b[1;31m---------------------------------------------------------------------------\u001b[0m",
      "\u001b[1;31mValueError\u001b[0m                                Traceback (most recent call last)",
      "\u001b[1;32m<ipython-input-152-c11efdb474d8>\u001b[0m in \u001b[0;36m<module>\u001b[1;34m\u001b[0m\n\u001b[0;32m      9\u001b[0m         \u001b[0mmax\u001b[0m \u001b[1;33m=\u001b[0m \u001b[0mlen\u001b[0m\u001b[1;33m(\u001b[0m\u001b[0mls\u001b[0m\u001b[1;33m[\u001b[0m\u001b[0mi\u001b[0m\u001b[1;33m]\u001b[0m\u001b[1;33m)\u001b[0m\u001b[1;33m\u001b[0m\u001b[1;33m\u001b[0m\u001b[0m\n\u001b[0;32m     10\u001b[0m         \u001b[1;32mfor\u001b[0m \u001b[0ml\u001b[0m \u001b[1;32min\u001b[0m \u001b[0mls\u001b[0m\u001b[1;33m[\u001b[0m\u001b[0mi\u001b[0m\u001b[1;33m]\u001b[0m\u001b[1;33m:\u001b[0m\u001b[1;33m\u001b[0m\u001b[1;33m\u001b[0m\u001b[0m\n\u001b[1;32m---> 11\u001b[1;33m             \u001b[0marr\u001b[0m\u001b[1;33m.\u001b[0m\u001b[0mremove\u001b[0m\u001b[1;33m(\u001b[0m\u001b[0ml\u001b[0m\u001b[1;33m)\u001b[0m\u001b[1;33m\u001b[0m\u001b[1;33m\u001b[0m\u001b[0m\n\u001b[0m\u001b[0;32m     12\u001b[0m         \u001b[0marr\u001b[0m\u001b[1;33m=\u001b[0m\u001b[0mtemp\u001b[0m\u001b[1;33m\u001b[0m\u001b[1;33m\u001b[0m\u001b[0m\n\u001b[0;32m     13\u001b[0m \u001b[1;33m\u001b[0m\u001b[0m\n",
      "\u001b[1;31mValueError\u001b[0m: list.remove(x): x not in list"
     ]
    }
   ],
   "source": [
    "import math\n",
    "ls = printSubsequences(range(1,6),5)\n",
    "arr = [1,2,3,4,5]\n",
    "temp = [1,2,3,4,5]\n",
    "max = 2\n",
    "for i in range(0, len(ls)):\n",
    "    if len(ls[i]) >= max:\n",
    "        idx = i\n",
    "        max = len(ls[i])\n",
    "        for l in ls[i]:\n",
    "            arr.remove(l)\n",
    "        arr=temp\n",
    "\n",
    "            \n",
    "            \n",
    "print(arr)"
   ]
  },
  {
   "cell_type": "code",
   "execution_count": 153,
   "metadata": {},
   "outputs": [],
   "source": [
    "def printSubsequences(arr, n) : \n",
    "  \n",
    "    ls = [[]]\n",
    "    l = []\n",
    "    opsize = math.pow(2, n) \n",
    "  \n",
    "    # Run from counter 000..1 to 111..1 \n",
    "    for counter in range( 1, (int)(opsize)) : \n",
    "        for j in range(0, n) : \n",
    "              \n",
    "            # Check if jth bit in the counter \n",
    "            # is set If set then print jth  \n",
    "            # element from arr[]  \n",
    "            if (counter & (1<<j)) : \n",
    "                l.append(arr[j]) \n",
    "        if isValid(l) and len(l) in range(2,n-1):\n",
    "            ls.append(l)\n",
    "        l=[]\n",
    "    return ls"
   ]
  },
  {
   "cell_type": "code",
   "execution_count": 154,
   "metadata": {},
   "outputs": [],
   "source": [
    "def isValid(arr):\n",
    "    n = len(arr)\n",
    "    if n*(n-1)/2 == numOfPairs(arr, n):\n",
    "        return True\n",
    "    return False"
   ]
  },
  {
   "cell_type": "code",
   "execution_count": 155,
   "metadata": {},
   "outputs": [],
   "source": [
    "def numOfPairs(arr, n) : \n",
    "    count = 0\n",
    "      \n",
    "    for i in range(0, n-1) : \n",
    "        for j in range(i+1, n) : \n",
    "      \n",
    "            if (coprime(arr[i], arr[j])) : \n",
    "                count = count + 1\n",
    "      \n",
    "    return count \n",
    "  "
   ]
  },
  {
   "cell_type": "code",
   "execution_count": 156,
   "metadata": {},
   "outputs": [],
   "source": [
    "def coprime(a, b) : \n",
    "    return (gcd(a, b) == 1) \n",
    "  "
   ]
  },
  {
   "cell_type": "code",
   "execution_count": 157,
   "metadata": {},
   "outputs": [],
   "source": [
    "def gcd(a, b): \n",
    "      \n",
    "    if (a == 0 or b == 0): \n",
    "            False\n",
    "      \n",
    "    if (a == b): \n",
    "        return a \n",
    "  \n",
    "    if (a > b): \n",
    "        return gcd(a-b, b) \n",
    "          \n",
    "    return gcd(a, b-a) \n",
    "      "
   ]
  }
 ],
 "metadata": {
  "kernelspec": {
   "display_name": "Python 3",
   "language": "python",
   "name": "python3"
  },
  "language_info": {
   "codemirror_mode": {
    "name": "ipython",
    "version": 3
   },
   "file_extension": ".py",
   "mimetype": "text/x-python",
   "name": "python",
   "nbconvert_exporter": "python",
   "pygments_lexer": "ipython3",
   "version": "3.6.8"
  }
 },
 "nbformat": 4,
 "nbformat_minor": 2
}
